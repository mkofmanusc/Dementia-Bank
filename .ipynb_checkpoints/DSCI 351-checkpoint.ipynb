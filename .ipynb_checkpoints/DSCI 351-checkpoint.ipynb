{
 "cells": [
  {
   "cell_type": "code",
   "execution_count": 2,
   "metadata": {},
   "outputs": [],
   "source": [
    "#!pip install mysql.connector-python --user"
   ]
  },
  {
   "cell_type": "code",
   "execution_count": 3,
   "metadata": {},
   "outputs": [],
   "source": [
    "import pandas as pd\n",
    "import os\n",
    "import numpy as np\n",
    "import sys\n",
    "import re\n",
    "import io\n",
    "import csv\n",
    "import mysql.connector\n",
    "import scipy as sp\n",
    "\n",
    "import warnings\n",
    "warnings.filterwarnings('ignore')\n",
    "\n",
    "import ipywidgets as widgets\n",
    "from IPython.display import display, clear_output"
   ]
  },
  {
   "cell_type": "code",
   "execution_count": 4,
   "metadata": {},
   "outputs": [],
   "source": [
    "#!jupyter nbextension enable --py widgetsnbextension --sys-prefix\n",
    "#!jupyter serverextension enable voila --sys-prefix"
   ]
  },
  {
   "cell_type": "code",
   "execution_count": 5,
   "metadata": {},
   "outputs": [],
   "source": [
    "db = mysql.connector.connect(host=\"127.0.0.1\", \n",
    "                             password = 'Yaroslav', \n",
    "                             user=\"root\", \n",
    "                             database='dementia bank', \n",
    "                             auth_plugin='mysql_native_password')\n",
    "cursor = db.cursor(buffered=True)"
   ]
  },
  {
   "cell_type": "code",
   "execution_count": 6,
   "metadata": {},
   "outputs": [],
   "source": [
    "file = open(\"cookietheft.gif\", \"rb\")\n",
    "image = file.read()\n",
    "\n",
    "image_head = widgets.Image(\n",
    "                    value=image,\n",
    "                    format='gif',\n",
    "                    width='300'\n",
    "                    \n",
    "                )\n",
    "\n",
    "label_head = widgets.Label(\n",
    "                    value='Stimulus image to which participants answered questions about',\n",
    "                    style={'description_width': 'initial'}\n",
    "                )\n",
    "\n",
    "vbox_stimulus = widgets.VBox([image_head, label_head], layout=widgets.Layout(margin = '50px 250px 50px 250px'))"
   ]
  },
  {
   "cell_type": "code",
   "execution_count": 7,
   "metadata": {},
   "outputs": [],
   "source": [
    "classification = widgets.ToggleButtons(\n",
    "            options=['Dementia', 'Control', 'Participant Summary', 'Category Description']\n",
    "        )"
   ]
  },
  {
   "cell_type": "code",
   "execution_count": 8,
   "metadata": {},
   "outputs": [],
   "source": [
    "comparisonCategories = widgets.Dropdown(\n",
    "    options=[('Analytic', 'Analytic '), ('Clout', 'Clout'), ('Authentic', 'Authentic'),\n",
    "            ('Tone', 'Tone'), ('Words Per Sentence', 'WPS'), ('Six Letter Words', 'Sixltr'), ('Dictionary Words', 'Dic'),('Function Words', 'Funct'),\n",
    "            ('Negate', 'Negate'), ('Verbs', 'Verb'), ('Adjectives', 'Adj'), ('Positive Emotion', 'PositiveEmo'), ('Negative Emotion', 'NegativeEmo'), ('Perception', 'Perception'), \n",
    "            ('Past Focus', 'Focuspast'), ('Present Focus', 'Focuspresent'), ('Future Focus', 'Focusfuture'), ('Swear Words', 'swear'), ('Filler','Filler')],\n",
    "    description='Category:',\n",
    ")"
   ]
  },
  {
   "cell_type": "code",
   "execution_count": 9,
   "metadata": {},
   "outputs": [],
   "source": [
    "searchBox = widgets.Text(\n",
    "    value='',\n",
    "    placeholder='Enter Field',\n",
    "    description='Search Bar:',\n",
    "    disabled=False\n",
    ")"
   ]
  },
  {
   "cell_type": "code",
   "execution_count": 10,
   "metadata": {},
   "outputs": [],
   "source": [
    "searchButton = widgets.Button(\n",
    "    value=False,\n",
    "    description='Click to search',\n",
    "    disabled=False,\n",
    "    button_style='', # 'success', 'info', 'warning', 'danger' or ''\n",
    "    tooltip='Description',\n",
    "    icon='check'\n",
    ")\n",
    "searchContainer = widgets.HBox([searchBox, searchButton])"
   ]
  },
  {
   "cell_type": "code",
   "execution_count": 25,
   "metadata": {},
   "outputs": [],
   "source": [
    "patient_id = pd.read_csv(\"joined_liwc.csv\", usecols = ['person_id'])\n",
    "def buildSearch(search_string):\n",
    "    try:\n",
    "        if(int(searchBox.value) in patient_id['person_id']):\n",
    "            querySearch = \"Select * from liwc where Person_id = \" + str((searchBox.value))\n",
    "    except Exception as e:\n",
    "        if(searchBox.value.lower() == \"participant group\"):\n",
    "            querySearch = \"select ParticipantGroup, count(*) as total_participants from liwc group by ParticipantGroup\"\n",
    "        elif(searchBox.value.lower() == \"person_id\"):\n",
    "            querySearch = \"select count(*) as total_participants from liwc\"\n",
    "        else:\n",
    "            querySearch = \"Select ParticipantGroup, round(avg(\" + str(searchBox.value.lower()) + \"),2) as average_\" + (searchBox.value) + \", round(stddev(\"+searchBox.value+\"),2) as stdDev from liwc group by ParticipantGroup\"\n",
    "    return querySearch"
   ]
  },
  {
   "cell_type": "code",
   "execution_count": 26,
   "metadata": {},
   "outputs": [],
   "source": [
    "searchOut = widgets.Output(layout={'border': '1px solid black'})\n",
    "\n",
    "def on_button_click(c):\n",
    "    worked = True\n",
    "    searchQuery = buildSearch(searchBox.value)\n",
    "    try:\n",
    "        cursor.execute(searchQuery)\n",
    "    except Exception as e:\n",
    "        with searchOut:\n",
    "            clear_output()\n",
    "            print(searchBox.value + \" not a searchable feild, try one of the listed terms\")\n",
    "        worked = False\n",
    "    if(worked):\n",
    "        with searchOut:\n",
    "            clear_output()\n",
    "            cursor.execute(searchQuery)\n",
    "            worked = True\n",
    "            result = cursor.fetchall() \n",
    "            num_fields = len(cursor.description)\n",
    "            field_names = [i[0] for i in cursor.description]\n",
    "            print(field_names)\n",
    "            for x in result:\n",
    "                print(x)\n",
    "            \n",
    "            \n",
    "searchButton.on_click(on_button_click)\n",
    "    "
   ]
  },
  {
   "cell_type": "code",
   "execution_count": 27,
   "metadata": {},
   "outputs": [],
   "source": [
    "#searchOut = widgets.Output(layout={'border': '1px solid black'})\n",
    "\n",
    "#def changedSearch(change):\n",
    "#    searchQuery = buildSearch(searchBox.value)\n",
    "#    cursor.execute(searchQuery)\n",
    "#    with searchOut:\n",
    "#        clear_output()\n",
    "#        cursor.execute(searchQuery)\n",
    "#        result = cursor.fetchall() \n",
    "#        num_fields = len(cursor.description)\n",
    "#        field_names = [i[0] for i in cursor.description]\n",
    "#        print(field_names)\n",
    "#        for x in result:\n",
    "#            print(x)\n",
    "            \n",
    "#searchBox.observe(changedSearch, 'value')\n",
    "#only run when searched then hit enter, or update widget type and build query method"
   ]
  },
  {
   "cell_type": "code",
   "execution_count": 28,
   "metadata": {},
   "outputs": [],
   "source": [
    "text0 = widgets.HTML(value=\"<h1>Dementia and Speech Exploration</h1>\",layout=widgets.Layout(margin = '50px 250px 50px 250px'))\n",
    "text1 = widgets.HTML(value=\"<h2>Dementia affects many aspects of one cognition, including speech.<h2>\")\n",
    "text2 = widgets.HTML(value=\"<h2>To see the effects of dementia on one's speech, interact with the linguistic dataset via the functions shown below<h2>\")\n",
    "searchText = widgets.HTML(value=\"<h3>This dataset categorized certain linguistic features based on descriptions of the cookie stimulus picture<h3>\")\n",
    "searchText2 = widgets.HTML(value=\"<h3>The categories are as listed: <h3>\")\n",
    "searchText3 = widgets.HTML(value=\"<h3>Person_Id (pass in a number), Analytic, Clout, Authentic, Tone, Words Per Sentence (Wps), SixLetterWords (Sixltr), Function Words (Funct), Negate, Verb, Adjectives (Adj), Positive Emotion (PositiveEmo), NegativeEmotion (NegativeEmo), Perception, Focuspast, Focuspresent, Focusfuture, Swear, and Filler<h3>\")\n",
    "searchText4 = widgets.HTML(value=\"<h3>Search one of the categories above to view how it differs between the control and dementia groups<h3>\")\n",
    "\n",
    "vbox_search = widgets.VBox([text0, text1, vbox_stimulus, text2, searchText, searchText2, searchText3, searchText4, searchContainer, searchOut])\n",
    "\n",
    "searchText5 = widgets.HTML(value=\"<h3>Or select categories from the list and buttons down below to explore in more detail<h3>\")\n",
    "vbox_explore = widgets.VBox([searchText5, classification, comparisonCategories])\n",
    "\n",
    "vbox_net = widgets.VBox([vbox_search, vbox_explore])\n"
   ]
  },
  {
   "cell_type": "code",
   "execution_count": 34,
   "metadata": {},
   "outputs": [],
   "source": [
    "def buildQuery(classification, comparisonCategories): #CHANGE PARTICIPANT SUMMARY\n",
    "    if( classification == \"Dementia\"):\n",
    "        where = \"ParticipantGroup\"\n",
    "        sqlQuery = \"select Person_id, \" + comparisonCategories + \" from liwc where ParticipantGroup = 'Dementia'\"      \n",
    "    elif(classification == \"Control\"):\n",
    "        sqlQuery = \"select Person_id, \" + comparisonCategories + \" from liwc where ParticipantGroup = 'Control'\"\n",
    "    elif(classification == \"Participant Summary\"):\n",
    "        #cat = comparisonCategories\n",
    "        #sqlQuery = \"select ParticipantGroup, round(avg(\" + cat + \"),2) as avg_\" + cat + \", round(stddev(\"+cat+\"),2) as stdDev, count(*) as total_participants from liwc group by ParticipantGroup\"\n",
    "        sqlQuery = \"select a.ParticipantGroup, count(a.participantGroup) as numParticipants, round(Cast(avg(b.Age) as float),2) as avg_age, round(std(b.Age),2) as stdDev_age from bio b right outer join liwc a on b.Person_id = a.Person_id group by participantGroup\"\n",
    "    elif(classification == \"Category Description\"):\n",
    "        sqlQuery = \"select * from descriptions where Category = '\" + comparisonCategories + \"'\"\n",
    "    return sqlQuery    "
   ]
  },
  {
   "cell_type": "code",
   "execution_count": 30,
   "metadata": {},
   "outputs": [],
   "source": [
    "out = widgets.Output(layout={'border': '1px solid black'})\n",
    "\n",
    "def changedToggle(change):\n",
    "    sqlQuery = buildQuery(classification.value, comparisonCategories.value)\n",
    "    cursor.execute(sqlQuery)\n",
    "    with out:\n",
    "        try:\n",
    "            clear_output()\n",
    "            cursor.execute(sqlQuery)\n",
    "            result = cursor.fetchall() \n",
    "            num_fields = len(cursor.description)\n",
    "            field_names = [i[0] for i in cursor.description]\n",
    "            print(field_names)\n",
    "            for x in result:\n",
    "                print(x)\n",
    "        except ProgrammingError:\n",
    "            \"\"\n",
    "            \n",
    "classification.observe(changedToggle, 'value')\n",
    "comparisonCategories.observe(changedToggle, 'value')"
   ]
  },
  {
   "cell_type": "code",
   "execution_count": 33,
   "metadata": {},
   "outputs": [
    {
     "data": {
      "application/vnd.jupyter.widget-view+json": {
       "model_id": "95ccfb9b4f024386859d57628fd0020d",
       "version_major": 2,
       "version_minor": 0
      },
      "text/plain": [
       "VBox(children=(VBox(children=(VBox(children=(HTML(value='<h1>Dementia and Speech Exploration</h1>', layout=Lay…"
      ]
     },
     "metadata": {},
     "output_type": "display_data"
    }
   ],
   "source": [
    "page = widgets.VBox([vbox_net, out])\n",
    "display(page)"
   ]
  },
  {
   "cell_type": "code",
   "execution_count": 36,
   "metadata": {},
   "outputs": [],
   "source": [
    "!pip freeze > requirements.txt"
   ]
  },
  {
   "cell_type": "code",
   "execution_count": null,
   "metadata": {},
   "outputs": [],
   "source": []
  }
 ],
 "metadata": {
  "kernelspec": {
   "display_name": "Python 3",
   "language": "python",
   "name": "python3"
  },
  "language_info": {
   "codemirror_mode": {
    "name": "ipython",
    "version": 3
   },
   "file_extension": ".py",
   "mimetype": "text/x-python",
   "name": "python",
   "nbconvert_exporter": "python",
   "pygments_lexer": "ipython3",
   "version": "3.8.3"
  }
 },
 "nbformat": 4,
 "nbformat_minor": 4
}
